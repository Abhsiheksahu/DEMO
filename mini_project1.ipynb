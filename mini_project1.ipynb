{
 "cells": [
  {
   "cell_type": "code",
   "execution_count": 5,
   "id": "240ff853-0c07-4928-9ed0-e654595aabd6",
   "metadata": {},
   "outputs": [
    {
     "name": "stdin",
     "output_type": "stream",
     "text": [
      "enter the number of hours you studies 3.5\n"
     ]
    },
    {
     "name": "stdout",
     "output_type": "stream",
     "text": [
      "predictes score:[63.91615854]\n"
     ]
    },
    {
     "name": "stderr",
     "output_type": "stream",
     "text": [
      "C:\\Users\\Sanskari\\AppData\\Roaming\\Python\\Python312\\site-packages\\sklearn\\base.py:465: UserWarning: X does not have valid feature names, but LinearRegression was fitted with feature names\n",
      "  warnings.warn(\n"
     ]
    }
   ],
   "source": [
    "\n",
    "import numpy as nd\n",
    "import pandas as pd\n",
    "from sklearn.model_selection import train_test_split\n",
    "from sklearn.linear_model import LinearRegression\n",
    "\n",
    "jp_public_school_data ={'hours_study' : [2,3,4,5,6,7,8,9,10],\n",
    "'exam_score': [50,60,70,75,80,82,85,90,95]}\n",
    "df = pd.DataFrame(jp_public_school_data)\n",
    "x = df[['hours_study']]\n",
    "y = df[['exam_score']]\n",
    "\n",
    "x_train,x_test,y_train,y_test = train_test_split(x,y,test_size =0.2)\n",
    "model = LinearRegression()\n",
    "model.fit(x_train,y_train)\n",
    "user_input = float(input(\"enter the number of hours you studies\"))\n",
    "predicted_score = model.predict([[user_input]])\n",
    "print(f\"predictes score:{predicted_score[0]}\")"
   ]
  },
  {
   "cell_type": "code",
   "execution_count": null,
   "id": "6ec86f03-63a4-400e-ac4f-d69a7820c75f",
   "metadata": {},
   "outputs": [],
   "source": []
  }
 ],
 "metadata": {
  "kernelspec": {
   "display_name": "Python 3 (ipykernel)",
   "language": "python",
   "name": "python3"
  },
  "language_info": {
   "codemirror_mode": {
    "name": "ipython",
    "version": 3
   },
   "file_extension": ".py",
   "mimetype": "text/x-python",
   "name": "python",
   "nbconvert_exporter": "python",
   "pygments_lexer": "ipython3",
   "version": "3.12.2"
  }
 },
 "nbformat": 4,
 "nbformat_minor": 5
}
